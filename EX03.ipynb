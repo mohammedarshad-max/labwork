{
  "nbformat": 4,
  "nbformat_minor": 0,
  "metadata": {
    "colab": {
      "provenance": [],
      "authorship_tag": "ABX9TyMlssOkxCYi4C0RRogRY83M",
      "include_colab_link": true
    },
    "kernelspec": {
      "name": "python3",
      "display_name": "Python 3"
    },
    "language_info": {
      "name": "python"
    }
  },
  "cells": [
    {
      "cell_type": "markdown",
      "metadata": {
        "id": "view-in-github",
        "colab_type": "text"
      },
      "source": [
        "<a href=\"https://colab.research.google.com/github/mohammedarshad-max/labwork/blob/main/EX03.ipynb\" target=\"_parent\"><img src=\"https://colab.research.google.com/assets/colab-badge.svg\" alt=\"Open In Colab\"/></a>"
      ]
    },
    {
      "cell_type": "code",
      "execution_count": 1,
      "metadata": {
        "colab": {
          "base_uri": "https://localhost:8080/"
        },
        "id": "QSNPj8t49La-",
        "outputId": "3b62c0f4-dae0-4e6f-c308-07454bd46daa"
      },
      "outputs": [
        {
          "output_type": "stream",
          "name": "stdout",
          "text": [
            "Requirement already satisfied: requests in /usr/local/lib/python3.10/dist-packages (2.27.1)\n",
            "Requirement already satisfied: urllib3<1.27,>=1.21.1 in /usr/local/lib/python3.10/dist-packages (from requests) (1.26.16)\n",
            "Requirement already satisfied: certifi>=2017.4.17 in /usr/local/lib/python3.10/dist-packages (from requests) (2023.7.22)\n",
            "Requirement already satisfied: charset-normalizer~=2.0.0 in /usr/local/lib/python3.10/dist-packages (from requests) (2.0.12)\n",
            "Requirement already satisfied: idna<4,>=2.5 in /usr/local/lib/python3.10/dist-packages (from requests) (3.4)\n"
          ]
        }
      ],
      "source": [
        "pip install requests\n"
      ]
    },
    {
      "cell_type": "code",
      "source": [
        "import requests\n",
        "\n",
        "def scrape_github_repositories(username):\n",
        "    url = f\"https://api.github.com/users/{username}/repos\"\n",
        "\n",
        "    # Make a GET request to the GitHub API\n",
        "    response = requests.get(url)\n",
        "\n",
        "    # Check if the request was successful\n",
        "    if response.status_code == 200:\n",
        "        # Parse the JSON response\n",
        "        repositories = response.json()\n",
        "\n",
        "        # Extract and print relevant information from the repositories\n",
        "        for repo in repositories:\n",
        "            print(f\"Repository Name: {repo['name']}\")\n",
        "            print(f\"Description: {repo['description']}\")\n",
        "            print(f\"URL: {repo['html_url']}\")\n",
        "            print(\"---\")\n",
        "    else:\n",
        "        print(f\"Failed to fetch repositories for user {username}. Status code:\", response.status_code)\n",
        "\n",
        "if __name__ == \"__main__\":\n",
        "    # Replace 'YOUR_GITHUB_USERNAME' with the GitHub username you want to scrape\n",
        "    github_username = \"mohammedarshad-max\"\n",
        "\n",
        "    scrape_github_repositories(github_username)\n"
      ],
      "metadata": {
        "colab": {
          "base_uri": "https://localhost:8080/"
        },
        "id": "FdoJfF2E9OsE",
        "outputId": "ffed8845-995d-4b82-89b2-57f06bd4632c"
      },
      "execution_count": 4,
      "outputs": [
        {
          "output_type": "stream",
          "name": "stdout",
          "text": [
            "Repository Name: darklove\n",
            "Description: programmed by arshad-max\n",
            "URL: https://github.com/mohammedarshad-max/darklove\n",
            "---\n",
            "Repository Name: labwork\n",
            "Description: None\n",
            "URL: https://github.com/mohammedarshad-max/labwork\n",
            "---\n",
            "Repository Name: mohammedarshad-max\n",
            "Description: Config files for my GitHub profile.\n",
            "URL: https://github.com/mohammedarshad-max/mohammedarshad-max\n",
            "---\n",
            "Repository Name: pyhton\n",
            "Description: None\n",
            "URL: https://github.com/mohammedarshad-max/pyhton\n",
            "---\n",
            "Repository Name: python\n",
            "Description: None\n",
            "URL: https://github.com/mohammedarshad-max/python\n",
            "---\n"
          ]
        }
      ]
    }
  ]
}