{
  "nbformat": 4,
  "nbformat_minor": 0,
  "metadata": {
    "colab": {
      "provenance": [],
      "authorship_tag": "ABX9TyP/ffWf0XP9v20+4bB2MqE7",
      "include_colab_link": true
    },
    "kernelspec": {
      "name": "python3",
      "display_name": "Python 3"
    },
    "language_info": {
      "name": "python"
    }
  },
  "cells": [
    {
      "cell_type": "markdown",
      "metadata": {
        "id": "view-in-github",
        "colab_type": "text"
      },
      "source": [
        "<a href=\"https://colab.research.google.com/github/mohammedarshad-max/labwork/blob/main/EX02.ipynb\" target=\"_parent\"><img src=\"https://colab.research.google.com/assets/colab-badge.svg\" alt=\"Open In Colab\"/></a>"
      ]
    },
    {
      "cell_type": "code",
      "execution_count": null,
      "metadata": {
        "id": "_aEhCBaw8ATL"
      },
      "outputs": [],
      "source": []
    },
    {
      "cell_type": "code",
      "source": [
        "#IMDB Scraping\n",
        "'''Script that finds the Top 250 Movies on IMDB.'''\n",
        "import requests\n",
        "import bs4 as bs\n",
        "\n",
        "#List that stores the details of the movies as a Dictionary.\n",
        "movies = []\n",
        "print('Scraping in Progress... ')\n",
        "\n",
        "for idx in range(1,4):\n",
        "    url = 'https://www.imdb.com/list/ls068082370/?sort=list_order,asc&st_dt=&mode=detail&page=' + str(idx)\n",
        "    response = requests.get(url)\n",
        "    html = response.text\n",
        "    soup = bs.BeautifulSoup(html, 'lxml')\n",
        "\n",
        "    temp = soup.findAll('div', class_= 'lister-item mode-detail')\n",
        "\n",
        "\n",
        "    for i in temp:\n",
        "        d = dict()\n",
        "\n",
        "        d['Title'] = i.find('h3', class_= 'lister-item-header').find('a').text\n",
        "        d['Rating'] = i.find('span', class_= 'ipl-rating-star__rating').text\n",
        "        d['Director'] = i.select_one(\"p:nth-of-type(3)\").find('a').text\n",
        "\n",
        "        stars = [i.select_one(\"p:nth-of-type(3)\").select_one(\"a:nth-of-type(2)\").text,\n",
        "                 i.select_one(\"p:nth-of-type(3)\").select_one(\"a:nth-of-type(3)\").text]\n",
        "        d['Actors'] = stars\n",
        "\n",
        "\n",
        "        movies.append(d)\n",
        "\n",
        "print(len(movies))\n"
      ],
      "metadata": {
        "id": "-B2w6Ern0z5y"
      },
      "execution_count": null,
      "outputs": []
    }
  ]
}